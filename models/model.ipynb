{
 "cells": [
  {
   "cell_type": "code",
   "execution_count": 1,
   "metadata": {},
   "outputs": [],
   "source": [
    "import numpy as np\n",
    "import librosa.feature\n",
    "import librosa.display\n",
    "import pandas as pd\n",
    "from sklearn.model_selection import train_test_split\n",
    "from fastdtw import fastdtw\n",
    "import random\n",
    "from PIL import Image\n",
    "from sklearn.metrics import accuracy_score\n",
    "import operator\n",
    "import pickle\n",
    "from sklearn.model_selection import train_test_split\n",
    "from sklearn.neighbors import KNeighborsClassifier"
   ]
  },
  {
   "cell_type": "code",
   "execution_count": 2,
   "metadata": {},
   "outputs": [],
   "source": [
    "df_fitur_a = pd.read_csv(\"data_a.csv\", sep=',')\n",
    "df_label_a = df_fitur_a.pop(\"label\")\n",
    "fitur_a = df_fitur_a.stack().groupby(level=0).apply(list).tolist()\n",
    "label_a = df_label_a.values.tolist()\n",
    "label_a = np.array(label_a)\n",
    "fitur_a = np.array(fitur_a, dtype = object)\n",
    "\n",
    "df_fitur_i = pd.read_csv(\"data_i.csv\", sep=',')\n",
    "df_label_i = df_fitur_i.pop(\"label\")\n",
    "fitur_i = df_fitur_i.stack().groupby(level=0).apply(list).tolist()\n",
    "label_i = df_label_i.values.tolist()\n",
    "label_i = np.array(label_i)\n",
    "fitur_i = np.array(fitur_i, dtype = object)\n",
    "\n",
    "df_fitur_u = pd.read_csv(\"data_u.csv\", sep=',')\n",
    "df_label_u = df_fitur_u.pop(\"label\")\n",
    "fitur_u = df_fitur_u.stack().groupby(level=0).apply(list).tolist()\n",
    "label_u = df_label_u.values.tolist()\n",
    "label_u = np.array(label_u)\n",
    "fitur_u = np.array(fitur_u, dtype = object)\n",
    "\n",
    "df_fitur_ē = pd.read_csv(\"data_ē.csv\", sep=',')\n",
    "df_label_ē = df_fitur_ē.pop(\"label\")\n",
    "fitur_ē = df_fitur_ē.stack().groupby(level=0).apply(list).tolist()\n",
    "label_ē = df_label_ē.values.tolist()\n",
    "label_ē = np.array(label_ē)\n",
    "fitur_ē = np.array(fitur_ē, dtype = object)\n",
    "\n",
    "df_fitur_o = pd.read_csv(\"data_o.csv\", sep=',')\n",
    "df_label_o = df_fitur_o.pop(\"label\")\n",
    "fitur_o = df_fitur_o.stack().groupby(level=0).apply(list).tolist()\n",
    "label_o = df_label_o.values.tolist()\n",
    "label_o = np.array(label_o)\n",
    "fitur_o = np.array(fitur_o, dtype = object)\n",
    "\n",
    "df_fitur_e = pd.read_csv(\"data_e.csv\", sep=',')\n",
    "df_label_e = df_fitur_e.pop(\"label\")\n",
    "fitur_e = df_fitur_e.stack().groupby(level=0).apply(list).tolist()\n",
    "label_e = df_label_e.values.tolist()\n",
    "label_e = np.array(label_e)\n",
    "fitur_e = np.array(fitur_e, dtype = object)\n",
    "\n",
    "df_fitur_kata = pd.read_csv(\"data_kata.csv\", sep=',')\n",
    "df_label_kata = df_fitur_kata.pop(\"label\")\n",
    "fitur_kata = df_fitur_kata.stack().groupby(level=0).apply(list).tolist()\n",
    "label_kata = df_label_kata.values.tolist()\n",
    "label_kata = np.array(label_kata)\n",
    "fitur_kata = np.array(fitur_kata, dtype = object)"
   ]
  },
  {
   "cell_type": "code",
   "execution_count": 3,
   "metadata": {},
   "outputs": [],
   "source": [
    "X_train_a, X_test_a, y_train_a, y_test_a = train_test_split(fitur_a, label_a, test_size=0.15, random_state=42)\n",
    "\n",
    "X_train_kata, X_test_kata, y_train_kata, y_test_kata = train_test_split(fitur_kata, label_kata, test_size=0.15, random_state=42)\n",
    "\n",
    "X_train_i, X_test_i, y_train_i, y_test_i = train_test_split(fitur_i, label_i, test_size=0.15, random_state=42)\n",
    "\n",
    "X_train_u, X_test_u, y_train_u, y_test_u = train_test_split(fitur_u, label_u, test_size=0.15, random_state=42)\n",
    "\n",
    "X_train_e, X_test_e, y_train_e, y_test_e = train_test_split(fitur_e, label_e, test_size=0.15, random_state=42)\n",
    "\n",
    "X_train_o, X_test_o, y_train_o, y_test_o = train_test_split(fitur_o, label_o, test_size=0.15, random_state=42)\n",
    "\n",
    "X_train_ē, X_test_ē, y_train_ē, y_test_ē = train_test_split(fitur_ē, label_ē, test_size=0.15, random_state=42)"
   ]
  },
  {
   "cell_type": "code",
   "execution_count": 7,
   "metadata": {},
   "outputs": [
    {
     "name": "stdout",
     "output_type": "stream",
     "text": [
      "akurasi model-a : 90.74%\n",
      "\n",
      "akurasi model-i : 75.93%\n",
      "\n",
      "akurasi model-u : 80.56%\n",
      "\n",
      "akurasi model-e : 83.33%\n",
      "\n",
      "akurasi model-o : 87.04%\n",
      "\n",
      "akurasi model-ē : 87.04%\n",
      "\n",
      "akurasi model-kata : 93.33%\n",
      "\n"
     ]
    }
   ],
   "source": [
    "model_a = KNeighborsClassifier(n_neighbors = 3)\n",
    "model_a.fit(X_train_a, y_train_a)\n",
    "y_pred_a = model_a.predict(X_test_a)\n",
    "result_a = accuracy_score(y_test_a, y_pred_a, normalize = True)*100\n",
    "print(\"akurasi model-a :\", round(result_a,2), end= \"%\\n\\n\")\n",
    "\n",
    "model_i = KNeighborsClassifier(n_neighbors=3)\n",
    "model_i.fit(X_train_i, y_train_i)\n",
    "y_pred_i = model_i.predict(X_test_i)\n",
    "# new_pred_i = [y_pred_i[x][1] for x in range(len(y_pred_i))]\n",
    "result_i = accuracy_score(y_test_i, y_pred_i, normalize = True)*100\n",
    "print(\"akurasi model-i :\", round(result_i,2), end= \"%\\n\\n\")\n",
    "\n",
    "model_u = KNeighborsClassifier(n_neighbors=3)\n",
    "model_u.fit(X_train_u, y_train_u)\n",
    "y_pred_u = model_u.predict(X_test_u)\n",
    "# new_pred_u = [y_pred_u[x][1] for x in range(len(y_pred_u))]\n",
    "result_u = accuracy_score(y_test_u, y_pred_u, normalize = True)*100\n",
    "print(\"akurasi model-u :\", round(result_u,2), end= \"%\\n\\n\")\n",
    "\n",
    "model_e = KNeighborsClassifier(n_neighbors=3)\n",
    "model_e.fit(X_train_e, y_train_e)\n",
    "y_pred_e = model_e.predict(X_test_e)\n",
    "# new_pred_e = [y_pred_e[x][1] for x in range(len(y_pred_e))]\n",
    "result_e = accuracy_score(y_test_e, y_pred_e, normalize = True)*100\n",
    "print(\"akurasi model-e :\", round(result_e,2), end= \"%\\n\\n\")\n",
    "\n",
    "model_o = KNeighborsClassifier(n_neighbors=3)\n",
    "model_o.fit(X_train_o, y_train_o)\n",
    "y_pred_o = model_o.predict(X_test_o)\n",
    "# new_pred_o = [y_pred_o[x][1] for x in range(len(y_pred_o))]\n",
    "result_o = accuracy_score(y_test_o, y_pred_o, normalize = True)*100\n",
    "print(\"akurasi model-o :\", round(result_o,2), end= \"%\\n\\n\")\n",
    "\n",
    "model_ē = KNeighborsClassifier(n_neighbors=3)\n",
    "model_ē.fit(X_train_ē, y_train_ē)\n",
    "y_pred_ē = model_ē.predict(X_test_ē)\n",
    "# new_pred_ē = [y_pred_ē[x][1] for x in range(len(y_pred_ē))]\n",
    "result_ē = accuracy_score(y_test_ē, y_pred_ē, normalize = True)*100\n",
    "print(\"akurasi model-ē :\", round(result_ē,2), end= \"%\\n\\n\")\n",
    "\n",
    "model_kata = KNeighborsClassifier(n_neighbors=3)\n",
    "model_kata.fit(X_train_kata, y_train_kata)\n",
    "y_pred_kata = model_kata.predict(X_test_kata)\n",
    "# new_pred_kata = [y_pred_kata[x][1] for x in range(len(y_pred_kata))]\n",
    "result_kata = accuracy_score(y_test_kata, y_pred_kata, normalize = True)*100\n",
    "print(\"akurasi model-kata :\", round(result_kata,2), end= \"%\\n\\n\")"
   ]
  },
  {
   "cell_type": "code",
   "execution_count": 8,
   "metadata": {},
   "outputs": [
    {
     "name": "stdout",
     "output_type": "stream",
     "text": [
      "rata-rata akurasi:  85.42%"
     ]
    }
   ],
   "source": [
    "avg_acc = round((result_ē + result_e + result_o + result_u + result_i + result_a + result_kata)/7,2)\n",
    "print(\"rata-rata akurasi: \",avg_acc, end=\"%\")"
   ]
  },
  {
   "cell_type": "code",
   "execution_count": 9,
   "metadata": {},
   "outputs": [],
   "source": [
    "pickle.dump(model_a, open('model_a.pkl','wb'))\n",
    "pickle.dump(model_i, open('model_i.pkl','wb'))\n",
    "pickle.dump(model_u, open('model_u.pkl','wb'))\n",
    "pickle.dump(model_ē, open('model_ē.pkl','wb'))\n",
    "pickle.dump(model_o, open('model_o.pkl','wb'))\n",
    "pickle.dump(model_e, open('model_e.pkl','wb'))\n",
    "pickle.dump(model_kata, open('model_kata.pkl','wb'))"
   ]
  },
  {
   "cell_type": "code",
   "execution_count": null,
   "metadata": {},
   "outputs": [],
   "source": []
  }
 ],
 "metadata": {
  "kernelspec": {
   "display_name": "Python 3",
   "language": "python",
   "name": "python3"
  },
  "language_info": {
   "codemirror_mode": {
    "name": "ipython",
    "version": 3
   },
   "file_extension": ".py",
   "mimetype": "text/x-python",
   "name": "python",
   "nbconvert_exporter": "python",
   "pygments_lexer": "ipython3",
   "version": "3.8.5"
  }
 },
 "nbformat": 4,
 "nbformat_minor": 4
}
